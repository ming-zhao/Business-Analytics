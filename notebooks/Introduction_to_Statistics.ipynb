{
 "cells": [
  {
   "cell_type": "code",
   "execution_count": null,
   "metadata": {},
   "outputs": [],
   "source": [
    "%run init_Introduction_to_Statistics.py\n",
    "\n",
    "df_cost = pd.read_csv('https://raw.githubusercontent.com/ming-zhao/Business-Analytics/master/data/Overhead_Costs.csv', \n",
    "                 names=['month', 'machine_hours','prod_runs','overhead'], header=0, index_col='month')\n",
    "\n",
    "df_salary = pd.read_csv('https://raw.githubusercontent.com/ming-zhao/Business-Analytics/master/data/BankSalaries.csv', \n",
    "                 header=0, index_col='Employee')"
   ]
  },
  {
   "cell_type": "markdown",
   "metadata": {},
   "source": [
    "# Introduction to Statistics"
   ]
  }
 ],
 "metadata": {
  "hide_input": false,
  "kernelspec": {
   "display_name": "Python 3",
   "language": "python",
   "name": "python3"
  },
  "language_info": {
   "codemirror_mode": {
    "name": "ipython",
    "version": 3
   },
   "file_extension": ".py",
   "mimetype": "text/x-python",
   "name": "python",
   "nbconvert_exporter": "python",
   "pygments_lexer": "ipython3",
   "version": "3.7.3"
  },
  "toc": {
   "base_numbering": 1,
   "nav_menu": {},
   "number_sections": true,
   "sideBar": true,
   "skip_h1_title": false,
   "title_cell": "Table of Contents",
   "title_sidebar": "Contents",
   "toc_cell": false,
   "toc_position": {},
   "toc_section_display": true,
   "toc_window_display": false
  }
 },
 "nbformat": 4,
 "nbformat_minor": 2
}
