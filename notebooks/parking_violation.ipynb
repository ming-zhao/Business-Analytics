{
 "cells": [
  {
   "cell_type": "markdown",
   "metadata": {
    "colab_type": "text",
    "id": "view-in-github"
   },
   "source": [
    "<a href=\"https://colab.research.google.com/github/ming-zhao/Business-Analytics/blob/master/notebooks/parking_violation.ipynb\" target=\"_parent\"><img src=\"https://colab.research.google.com/assets/colab-badge.svg\" alt=\"Open In Colab\"/></a>"
   ]
  },
  {
   "cell_type": "markdown",
   "metadata": {
    "colab_type": "text",
    "id": "fx1gIpY_KiNx"
   },
   "source": [
    "# Case: NYC Parking Violation Data\n",
    "\n",
    "We consider packing violation data in NYC from August 2013 to June 2014. The [dataset](https://data.cityofnewyork.us/City-Government/Parking-Violations-Issued-Fiscal-Year-2014-August-/jt7v-77mi\n",
    ") is available in [NYC Open Data](https://opendata.cityofnewyork.us/), which is a collection of 750 New York City public datasets made available by city agencies and organizations."
   ]
  },
  {
   "cell_type": "code",
   "execution_count": 0,
   "metadata": {
    "colab": {},
    "colab_type": "code",
    "id": "udhbE-qZ8YDA"
   },
   "outputs": [],
   "source": [
    "# load python packages and data\n",
    "import pandas as pd\n",
    "import matplotlib.pyplot as plt\n",
    "from IPython.display import IFrame\n",
    "\n",
    "dataurl = 'https://raw.githubusercontent.com/ming-zhao/Business-Analytics/master/data/data_management/'\n",
    "df_park = pd.read_csv(dataurl+'Parking_Violations.csv', parse_dates=['Time'])\n",
    "\n",
    "# run pivot table\n",
    "df_pivot = df_park[(df_park['Street Code1']!=0) &\\\n",
    "                   (df_park['Street Code2']!=0) &\\\n",
    "                   (df_park['Street Code2']!=0)].pivot_table(values='Summons Number',\n",
    "                                                  index='Address',\n",
    "                                                  margins=False,\n",
    "                                                  aggfunc='count').sort_values(by='Summons Number',\n",
    "                                                                               ascending=False).head(10)\n",
    "df_pivot['ticket'] = df_pivot['Summons Number']\n",
    "df_pivot['fine'] = df_pivot['ticket']*115\n",
    "df_pivot = df_pivot.drop(['Summons Number'], axis=1)"
   ]
  },
  {
   "cell_type": "markdown",
   "metadata": {
    "colab_type": "text",
    "id": "oA1fbzPX_cCY"
   },
   "source": [
    "Show the first 5 rows of the dataset"
   ]
  },
  {
   "cell_type": "code",
   "execution_count": 0,
   "metadata": {
    "colab": {
     "base_uri": "https://localhost:8080/",
     "height": 306
    },
    "colab_type": "code",
    "id": "H9QlTRvr8lEC",
    "outputId": "831f20c0-8268-4f4a-d7af-3c1192485bbe"
   },
   "outputs": [
    {
     "data": {
      "text/html": [
       "<div>\n",
       "<style scoped>\n",
       "    .dataframe tbody tr th:only-of-type {\n",
       "        vertical-align: middle;\n",
       "    }\n",
       "\n",
       "    .dataframe tbody tr th {\n",
       "        vertical-align: top;\n",
       "    }\n",
       "\n",
       "    .dataframe thead th {\n",
       "        text-align: right;\n",
       "    }\n",
       "</style>\n",
       "<table border=\"1\" class=\"dataframe\">\n",
       "  <thead>\n",
       "    <tr style=\"text-align: right;\">\n",
       "      <th></th>\n",
       "      <th>Summons Number</th>\n",
       "      <th>Registration State</th>\n",
       "      <th>Issue Date</th>\n",
       "      <th>Vehicle Body Type</th>\n",
       "      <th>Street Code1</th>\n",
       "      <th>Street Code2</th>\n",
       "      <th>Street Code3</th>\n",
       "      <th>Vehicle Make</th>\n",
       "      <th>Violation Time</th>\n",
       "      <th>Violation County</th>\n",
       "      <th>Vehicle Color</th>\n",
       "      <th>Vehicle Year</th>\n",
       "      <th>Time</th>\n",
       "      <th>Address</th>\n",
       "    </tr>\n",
       "  </thead>\n",
       "  <tbody>\n",
       "    <tr>\n",
       "      <th>0</th>\n",
       "      <td>1356906515</td>\n",
       "      <td>NY</td>\n",
       "      <td>9/18/1971</td>\n",
       "      <td>SDN</td>\n",
       "      <td>13610</td>\n",
       "      <td>37270</td>\n",
       "      <td>37290</td>\n",
       "      <td>MAZDA</td>\n",
       "      <td>0914P</td>\n",
       "      <td>NY</td>\n",
       "      <td>BLK</td>\n",
       "      <td>2010</td>\n",
       "      <td>9:14 PM</td>\n",
       "      <td>4165 BROADWAY</td>\n",
       "    </tr>\n",
       "    <tr>\n",
       "      <th>1</th>\n",
       "      <td>1365454538</td>\n",
       "      <td>NY</td>\n",
       "      <td>2/12/1976</td>\n",
       "      <td>VAN</td>\n",
       "      <td>37290</td>\n",
       "      <td>10740</td>\n",
       "      <td>10940</td>\n",
       "      <td>TOYOT</td>\n",
       "      <td>0458A</td>\n",
       "      <td>Q</td>\n",
       "      <td>BLK</td>\n",
       "      <td>2007</td>\n",
       "      <td>4:58 AM</td>\n",
       "      <td>49-11 BROADWAY</td>\n",
       "    </tr>\n",
       "    <tr>\n",
       "      <th>2</th>\n",
       "      <td>1355329360</td>\n",
       "      <td>NY</td>\n",
       "      <td>12/9/1990</td>\n",
       "      <td>SUBN</td>\n",
       "      <td>35290</td>\n",
       "      <td>31240</td>\n",
       "      <td>31290</td>\n",
       "      <td>FORD</td>\n",
       "      <td>0902A</td>\n",
       "      <td>Q</td>\n",
       "      <td>BK</td>\n",
       "      <td>2003</td>\n",
       "      <td>9:02 AM</td>\n",
       "      <td>4402 BEACH CHANNEL DR</td>\n",
       "    </tr>\n",
       "    <tr>\n",
       "      <th>3</th>\n",
       "      <td>1364794688</td>\n",
       "      <td>NY</td>\n",
       "      <td>1/12/1991</td>\n",
       "      <td>SUBN</td>\n",
       "      <td>27106</td>\n",
       "      <td>9340</td>\n",
       "      <td>9540</td>\n",
       "      <td>ME/BE</td>\n",
       "      <td>0223P</td>\n",
       "      <td>Q</td>\n",
       "      <td>SILVE</td>\n",
       "      <td>2005</td>\n",
       "      <td>2:23 PM</td>\n",
       "      <td>40-30 235 ST</td>\n",
       "    </tr>\n",
       "    <tr>\n",
       "      <th>4</th>\n",
       "      <td>1357592103</td>\n",
       "      <td>NY</td>\n",
       "      <td>1/4/2000</td>\n",
       "      <td>SDN</td>\n",
       "      <td>0</td>\n",
       "      <td>40404</td>\n",
       "      <td>40404</td>\n",
       "      <td>NISSA</td>\n",
       "      <td>1045P</td>\n",
       "      <td>R</td>\n",
       "      <td>SILVE</td>\n",
       "      <td>2008</td>\n",
       "      <td>10:45 PM</td>\n",
       "      <td>140 LUDWIGE LANE</td>\n",
       "    </tr>\n",
       "  </tbody>\n",
       "</table>\n",
       "</div>"
      ],
      "text/plain": [
       "   Summons Number Registration State  ...      Time                Address\n",
       "0      1356906515                 NY  ...   9:14 PM          4165 BROADWAY\n",
       "1      1365454538                 NY  ...   4:58 AM         49-11 BROADWAY\n",
       "2      1355329360                 NY  ...   9:02 AM  4402 BEACH CHANNEL DR\n",
       "3      1364794688                 NY  ...   2:23 PM           40-30 235 ST\n",
       "4      1357592103                 NY  ...  10:45 PM       140 LUDWIGE LANE\n",
       "\n",
       "[5 rows x 14 columns]"
      ]
     },
     "execution_count": 2,
     "metadata": {
      "tags": []
     },
     "output_type": "execute_result"
    }
   ],
   "source": [
    "df_park.head()"
   ]
  },
  {
   "cell_type": "markdown",
   "metadata": {
    "colab_type": "text",
    "id": "gF0xfIMxARu3"
   },
   "source": [
    "The top 10 hydrants that collect most of the tickets. Note that the fine for hydrant parking violation is $115. So the column 'fine' is the revenue generated by each hydrant and the total fine of the top 10 hydrants is &dollar;144,440.\n"
   ]
  },
  {
   "cell_type": "code",
   "execution_count": 0,
   "metadata": {
    "colab": {
     "base_uri": "https://localhost:8080/",
     "height": 407
    },
    "colab_type": "code",
    "id": "w7tF_VAP8nAz",
    "outputId": "560494a0-b904-410e-f507-3262e60f488b"
   },
   "outputs": [
    {
     "name": "stdout",
     "output_type": "stream",
     "text": [
      "Total annual revenue of top 10 hydrants 144440\n"
     ]
    },
    {
     "data": {
      "text/html": [
       "<div>\n",
       "<style scoped>\n",
       "    .dataframe tbody tr th:only-of-type {\n",
       "        vertical-align: middle;\n",
       "    }\n",
       "\n",
       "    .dataframe tbody tr th {\n",
       "        vertical-align: top;\n",
       "    }\n",
       "\n",
       "    .dataframe thead th {\n",
       "        text-align: right;\n",
       "    }\n",
       "</style>\n",
       "<table border=\"1\" class=\"dataframe\">\n",
       "  <thead>\n",
       "    <tr style=\"text-align: right;\">\n",
       "      <th></th>\n",
       "      <th>ticket</th>\n",
       "      <th>fine</th>\n",
       "    </tr>\n",
       "    <tr>\n",
       "      <th>Address</th>\n",
       "      <th></th>\n",
       "      <th></th>\n",
       "    </tr>\n",
       "  </thead>\n",
       "  <tbody>\n",
       "    <tr>\n",
       "      <th>152 Forsyth St</th>\n",
       "      <td>179</td>\n",
       "      <td>20585</td>\n",
       "    </tr>\n",
       "    <tr>\n",
       "      <th>104 Forsyth St</th>\n",
       "      <td>137</td>\n",
       "      <td>15755</td>\n",
       "    </tr>\n",
       "    <tr>\n",
       "      <th>100 Overlook Ter</th>\n",
       "      <td>135</td>\n",
       "      <td>15525</td>\n",
       "    </tr>\n",
       "    <tr>\n",
       "      <th>720 Lenox Ave</th>\n",
       "      <td>127</td>\n",
       "      <td>14605</td>\n",
       "    </tr>\n",
       "    <tr>\n",
       "      <th>122 Montague St</th>\n",
       "      <td>126</td>\n",
       "      <td>14490</td>\n",
       "    </tr>\n",
       "    <tr>\n",
       "      <th>21 W 58th St</th>\n",
       "      <td>125</td>\n",
       "      <td>14375</td>\n",
       "    </tr>\n",
       "    <tr>\n",
       "      <th>2960 Fredrick Douglas Blv</th>\n",
       "      <td>119</td>\n",
       "      <td>13685</td>\n",
       "    </tr>\n",
       "    <tr>\n",
       "      <th>44 Court St</th>\n",
       "      <td>114</td>\n",
       "      <td>13110</td>\n",
       "    </tr>\n",
       "    <tr>\n",
       "      <th>1498 3rd Ave</th>\n",
       "      <td>99</td>\n",
       "      <td>11385</td>\n",
       "    </tr>\n",
       "    <tr>\n",
       "      <th>41-28 Main St</th>\n",
       "      <td>95</td>\n",
       "      <td>10925</td>\n",
       "    </tr>\n",
       "  </tbody>\n",
       "</table>\n",
       "</div>"
      ],
      "text/plain": [
       "                           ticket   fine\n",
       "Address                                 \n",
       "152 Forsyth St                179  20585\n",
       "104 Forsyth St                137  15755\n",
       "100 Overlook Ter              135  15525\n",
       "720 Lenox Ave                 127  14605\n",
       "122 Montague St               126  14490\n",
       "21 W 58th St                  125  14375\n",
       "2960 Fredrick Douglas Blv     119  13685\n",
       "44 Court St                   114  13110\n",
       "1498 3rd Ave                   99  11385\n",
       "41-28 Main St                  95  10925"
      ]
     },
     "execution_count": 11,
     "metadata": {
      "tags": []
     },
     "output_type": "execute_result"
    }
   ],
   "source": [
    "print('Total annual revenue of top 10 hydrants', df_pivot.fine.sum())\n",
    "df_pivot"
   ]
  },
  {
   "cell_type": "code",
   "execution_count": 0,
   "metadata": {
    "colab": {
     "base_uri": "https://localhost:8080/",
     "height": 310
    },
    "colab_type": "code",
    "id": "Xyuimiem8u8C",
    "outputId": "94d2328f-bd90-4388-a66f-e934b92535cd"
   },
   "outputs": [
    {
     "data": {
      "image/png": "[encoded data removed]",
      "text/plain": [
       "<Figure size 360x360 with 1 Axes>"
      ]
     },
     "metadata": {
      "tags": []
     },
     "output_type": "display_data"
    }
   ],
   "source": [
    "axes = df_pivot.plot.pie(y='ticket', autopct='%1.1f%%', figsize=(5, 5))\n",
    "axes.legend(loc='best', bbox_to_anchor=(2,.8))\n",
    "axes.set_ylabel('')\n",
    "plt.show()"
   ]
  },
  {
   "cell_type": "markdown",
   "metadata": {
    "colab_type": "text",
    "id": "KqRL7poIBbk5"
   },
   "source": [
    "The most \"valuable\" hydrant is shown in [google street view](https://www.google.com/maps/@40.7206121,-73.9917312,3a,75y,288.92h,55.77t/data=!3m6!1e1!3m4!1s_SBRnIVor2FDGiszffialA!2e0!7i13312!8i6656\n",
    ")"
   ]
  },
  {
   "cell_type": "code",
   "execution_count": 0,
   "metadata": {
    "colab": {
     "base_uri": "https://localhost:8080/",
     "height": 421
    },
    "colab_type": "code",
    "id": "ILrVOV5Z83F7",
    "outputId": "cc937596-2460-4e69-e4b4-f6a2f682a2ed"
   },
   "outputs": [
    {
     "data": {
      "text/html": [
       "\n",
       "        <iframe\n",
       "            width=\"700\"\n",
       "            height=\"400\"\n",
       "            src=\"https://www.google.com/maps/embed?pb=!4v1557893815788!6m8!1m7!1s_SBRnIVor2FDGiszffialA!2m2!1d40.72061441911959!2d-73.99172978854598!3f288.92!4f0!5f0.7820865974627469\"\n",
       "            frameborder=\"0\"\n",
       "            allowfullscreen\n",
       "        ></iframe>\n",
       "        "
      ],
      "text/plain": [
       "<IPython.lib.display.IFrame at 0x7f83d15d24e0>"
      ]
     },
     "execution_count": 7,
     "metadata": {
      "tags": []
     },
     "output_type": "execute_result"
    }
   ],
   "source": [
    "IFrame('https://www.google.com/maps/embed?pb=!4v1557893815788!6m8!1m7!1s_SBRnIVor2FDGiszffialA!2m2!1d40.72061441911959!2d-73.99172978854598!3f288.92!4f0!5f0.7820865974627469', width=700, height=400)"
   ]
  },
  {
   "cell_type": "markdown",
   "metadata": {
    "colab_type": "text",
    "id": "Cmj83gIa8_6M"
   },
   "source": [
    "However, according to NYC department of transportation (DOT), this may not be considered as a parking violation. ![hydrant](https://github.com/ming-zhao/Business-Analytics/raw/master/images/hydrant.png)\n",
    "\n",
    "The issue is first spotted by Ben Wellington who is the author of blog [I Quant NY](https://iquantny.tumblr.com/). It certainly has impacts on NYC DOT. Today, the google street map shows"
   ]
  },
  {
   "cell_type": "code",
   "execution_count": 0,
   "metadata": {
    "colab": {
     "base_uri": "https://localhost:8080/",
     "height": 421
    },
    "colab_type": "code",
    "id": "3G1UD5BSCquJ",
    "outputId": "4758c5a6-297c-40b0-8635-9d3c7bb6953b"
   },
   "outputs": [
    {
     "data": {
      "text/html": [
       "\n",
       "        <iframe\n",
       "            width=\"700\"\n",
       "            height=\"400\"\n",
       "            src=\"https://www.google.com/maps/embed?pb=!4v1557932957501!6m8!1m7!1s04LptdatMEwvnW3J_tjGvw!2m2!1d40.72061130331954!2d-73.99171284164994!3f264.0115330665066!4f-27.9676492146982!5f0.7820865974627469\"\n",
       "            frameborder=\"0\"\n",
       "            allowfullscreen\n",
       "        ></iframe>\n",
       "        "
      ],
      "text/plain": [
       "<IPython.lib.display.IFrame at 0x7f83d15d22e8>"
      ]
     },
     "execution_count": 12,
     "metadata": {
      "tags": []
     },
     "output_type": "execute_result"
    }
   ],
   "source": [
    "IFrame('https://www.google.com/maps/embed?pb=!4v1557932957501!6m8!1m7!1s04LptdatMEwvnW3J_tjGvw!2m2!1d40.72061130331954!2d-73.99171284164994!3f264.0115330665066!4f-27.9676492146982!5f0.7820865974627469', width=700, height=400)"
   ]
  }
 ],
 "metadata": {
  "colab": {
   "collapsed_sections": [],
   "include_colab_link": true,
   "name": "parking_violation.ipynb",
   "provenance": [],
   "version": "0.3.2"
  },
  "hide_input": false,
  "kernelspec": {
   "display_name": "Python 3",
   "language": "python",
   "name": "python3"
  },
  "language_info": {
   "codemirror_mode": {
    "name": "ipython",
    "version": 3
   },
   "file_extension": ".py",
   "mimetype": "text/x-python",
   "name": "python",
   "nbconvert_exporter": "python",
   "pygments_lexer": "ipython3",
   "version": "3.7.3"
  },
  "toc": {
   "base_numbering": 1,
   "nav_menu": {},
   "number_sections": true,
   "sideBar": true,
   "skip_h1_title": false,
   "title_cell": "Table of Contents",
   "title_sidebar": "Contents",
   "toc_cell": false,
   "toc_position": {},
   "toc_section_display": true,
   "toc_window_display": false
  },
  "widgets": {
   "application/vnd.jupyter.widget-state+json": {
    "state": {},
    "version_major": 2,
    "version_minor": 0
   }
  }
 },
 "nbformat": 4,
 "nbformat_minor": 1
}
