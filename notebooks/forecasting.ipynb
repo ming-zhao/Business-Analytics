{
  "nbformat": 4,
  "nbformat_minor": 0,
  "metadata": {
    "colab": {
      "name": "forecasting.ipynb",
      "version": "0.3.2",
      "provenance": [],
      "collapsed_sections": [],
      "include_colab_link": true
    },
    "language_info": {
      "codemirror_mode": {
        "name": "ipython",
        "version": 3
      },
      "file_extension": ".py",
      "mimetype": "text/x-python",
      "name": "python",
      "nbconvert_exporter": "python",
      "pygments_lexer": "ipython3",
      "version": "3.7.3"
    },
    "kernelspec": {
      "display_name": "Python 3",
      "language": "python",
      "name": "python3"
    }
  },
  "cells": [
    {
      "cell_type": "markdown",
      "metadata": {
        "id": "view-in-github",
        "colab_type": "text"
      },
      "source": [
        "<a href=\"https://colab.research.google.com/github/ming-zhao/Business-Analytics/blob/master/notebooks/forecasting.ipynb\" target=\"_parent\"><img src=\"https://colab.research.google.com/assets/colab-badge.svg\" alt=\"Open In Colab\"/></a>"
      ]
    },
    {
      "cell_type": "code",
      "metadata": {
        "id": "ZwOCxcqOhOW8",
        "colab_type": "code",
        "colab": {}
      },
      "source": [
        "!pip install pmdarima > /dev/null\n",
        "!wget -q https://raw.githubusercontent.com/ming-zhao/Business-Analytics/master/notebooks/loadtsfuncs.py > /dev/null\n",
        "%run loadtsfuncs.py"
      ],
      "execution_count": 0,
      "outputs": []
    }
  ]
}