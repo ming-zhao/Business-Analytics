{
 "cells": [
  {
   "cell_type": "markdown",
   "metadata": {},
   "source": [
    "<a href=\"https://colab.research.google.com/github/ming-zhao/Business-Analytics/blob/master/files/overfit.ipynb\" target=\"_parent\"><img src=\"https://colab.research.google.com/assets/colab-badge.svg\" alt=\"Open In Colab\"/></a>"
   ]
  },
  {
   "cell_type": "code",
   "execution_count": 1,
   "metadata": {},
   "outputs": [
    {
     "name": "stderr",
     "output_type": "stream",
     "text": [
      "The system cannot find the path specified.\n",
      "The system cannot find the path specified.\n",
      "The system cannot find the path specified.\n",
      "The system cannot find the path specified.\n",
      "The system cannot find the path specified.\n",
      "The system cannot find the path specified.\n",
      "The system cannot find the path specified.\n",
      "The system cannot find the path specified.\n",
      "C:\\Users\\mzhao\\AppData\\Local\\Continuum\\anaconda3\\envs\\docs\\lib\\site-packages\\statsmodels\\compat\\pandas.py:23: FutureWarning: The Panel class is removed from pandas. Accessing it from the top-level namespace will also be removed in the next version\n",
      "  data_klasses = (pandas.Series, pandas.DataFrame, pandas.Panel)\n"
     ]
    },
    {
     "name": "stdout",
     "output_type": "stream",
     "text": [
      "WARNING:tensorflow:From D:\\GitHub\\Business-Analytics\\files\\loadmlfuncs.py:8: The name tf.logging.set_verbosity is deprecated. Please use tf.compat.v1.logging.set_verbosity instead.\n",
      "\n",
      "WARNING:tensorflow:From D:\\GitHub\\Business-Analytics\\files\\loadmlfuncs.py:8: The name tf.logging.ERROR is deprecated. Please use tf.compat.v1.logging.ERROR instead.\n",
      "\n"
     ]
    }
   ],
   "source": [
    "!wget -q https://raw.githubusercontent.com/ming-zhao/Business-Analytics/master/files/loaddatfuncs.py > /dev/null\n",
    "!wget -q https://raw.githubusercontent.com/ming-zhao/Business-Analytics/master/files/loadmlfuncs.py > /dev/null\n",
    "!wget -q https://raw.githubusercontent.com/ming-zhao/Business-Analytics/master/files/loadoptfuncs.py > /dev/null\n",
    "!wget -q https://raw.githubusercontent.com/ming-zhao/Business-Analytics/master/files/loadregfuncs.py > /dev/null\n",
    "!wget -q https://raw.githubusercontent.com/ming-zhao/Business-Analytics/master/files/loadtsfuncs.py > /dev/null\n",
    "!pip install imgaug==0.2.5 > /dev/null\n",
    "!pip install scipy==1.2 > /dev/null\n",
    "!pip install pmdarima > /dev/null\n",
    "%run loaddatfuncs.py\n",
    "%run loadmlfuncs.py\n",
    "%run loadoptfuncs.py\n",
    "%run loadregfuncs.py\n",
    "%run loadtsfuncs.py"
   ]
  },
  {
   "cell_type": "code",
   "execution_count": 2,
   "metadata": {},
   "outputs": [
    {
     "data": {
      "application/vnd.jupyter.widget-view+json": {
       "model_id": "5231987aa4a94ca8b9308aeb1b37dc4c",
       "version_major": 2,
       "version_minor": 0
      },
      "text/plain": [
       "interactive(children=(Checkbox(value=False, description='Original'), Output()), _dom_classes=('widget-interact…"
      ]
     },
     "metadata": {},
     "output_type": "display_data"
    }
   ],
   "source": [
    "interact(training_data,\n",
    "         show=widgets.Checkbox(value=False, description='Original', disabled=False));"
   ]
  },
  {
   "cell_type": "code",
   "execution_count": 3,
   "metadata": {},
   "outputs": [
    {
     "data": {
      "application/vnd.jupyter.widget-view+json": {
       "model_id": "2394657dcc014d84a0c5ef0669eaba8b",
       "version_major": 2,
       "version_minor": 0
      },
      "text/plain": [
       "interactive(children=(Checkbox(value=True, description='sin$(2\\\\pi x)$'), Output()), _dom_classes=('widget-int…"
      ]
     },
     "metadata": {},
     "output_type": "display_data"
    }
   ],
   "source": [
    "interact(poly_fit,\n",
    "         show=widgets.Checkbox(value=True, description='sin$(2\\pi x)$', disabled=False));"
   ]
  },
  {
   "cell_type": "code",
   "execution_count": 4,
   "metadata": {},
   "outputs": [
    {
     "data": {
      "application/vnd.jupyter.widget-view+json": {
       "model_id": "5d438a3c70784e93b75a0eb1dcf18d64",
       "version_major": 2,
       "version_minor": 0
      },
      "text/plain": [
       "interactive(children=(Checkbox(value=True, description='sin$(2\\\\pi x)$'), Checkbox(value=True, description='Tr…"
      ]
     },
     "metadata": {},
     "output_type": "display_data"
    }
   ],
   "source": [
    "interact(poly_fit_holdout,\n",
    "         show=widgets.Checkbox(value=True, description='sin$(2\\pi x)$', disabled=False),\n",
    "         train=widgets.Checkbox(value=True, description='Training Data', disabled=False),\n",
    "         test=widgets.Checkbox(value=True, description='Testing Data', disabled=False));"
   ]
  }
 ],
 "metadata": {
  "kernelspec": {
   "display_name": "Python 3",
   "language": "python",
   "name": "python3"
  },
  "language_info": {
   "codemirror_mode": {
    "name": "ipython",
    "version": 3
   },
   "file_extension": ".py",
   "mimetype": "text/x-python",
   "name": "python",
   "nbconvert_exporter": "python",
   "pygments_lexer": "ipython3",
   "version": "3.7.4"
  },
  "toc": {
   "base_numbering": 1,
   "nav_menu": {},
   "number_sections": true,
   "sideBar": true,
   "skip_h1_title": false,
   "title_cell": "Table of Contents",
   "title_sidebar": "Contents",
   "toc_cell": false,
   "toc_position": {},
   "toc_section_display": true,
   "toc_window_display": false
  }
 },
 "nbformat": 4,
 "nbformat_minor": 2
}
