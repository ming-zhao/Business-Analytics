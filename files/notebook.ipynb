{
 "cells": [
  {
   "cell_type": "markdown",
   "metadata": {},
   "source": [
    "<a href=\"https://colab.research.google.com/github/ming-zhao/Business-Analytics/blob/master/files/notebook.ipynb\" target=\"_parent\"><img src=\"https://colab.research.google.com/assets/colab-badge.svg\" alt=\"Open In Colab\"/></a>"
   ]
  },
  {
   "cell_type": "code",
   "execution_count": null,
   "metadata": {},
   "outputs": [],
   "source": [
    "!wget -q https://raw.githubusercontent.com/ming-zhao/Business-Analytics/master/files/loaddatfuncs.py > /dev/null\n",
    "!wget -q https://raw.githubusercontent.com/ming-zhao/Business-Analytics/master/files/loadmlfuncs.py > /dev/null\n",
    "!wget -q https://raw.githubusercontent.com/ming-zhao/Business-Analytics/master/files/loadoptfuncs.py > /dev/null\n",
    "!wget -q https://raw.githubusercontent.com/ming-zhao/Business-Analytics/master/files/loadregfuncs.py > /dev/null\n",
    "!wget -q https://raw.githubusercontent.com/ming-zhao/Business-Analytics/master/files/loadtsfuncs.py > /dev/null\n",
    "!pip install imgaug==0.2.5 > /dev/null\n",
    "!pip install scipy==1.2 > /dev/null\n",
    "!pip install pmdarima > /dev/null\n",
    "%run loaddatfuncs.py\n",
    "%run loadmlfuncs.py\n",
    "%run loadoptfuncs.py\n",
    "%run loadregfuncs.py\n",
    "%run loadtsfuncs.py"
   ]
  },
  {
   "cell_type": "code",
   "execution_count": null,
   "metadata": {},
   "outputs": [],
   "source": []
  },
  {
   "cell_type": "code",
   "execution_count": null,
   "metadata": {},
   "outputs": [],
   "source": []
  },
  {
   "cell_type": "code",
   "execution_count": null,
   "metadata": {},
   "outputs": [],
   "source": []
  }
 ],
 "metadata": {
  "kernelspec": {
   "display_name": "Python 3",
   "language": "python",
   "name": "python3"
  },
  "language_info": {
   "codemirror_mode": {
    "name": "ipython",
    "version": 3
   },
   "file_extension": ".py",
   "mimetype": "text/x-python",
   "name": "python",
   "nbconvert_exporter": "python",
   "pygments_lexer": "ipython3",
   "version": "3.7.3"
  },
  "toc": {
   "base_numbering": 1,
   "nav_menu": {},
   "number_sections": true,
   "sideBar": true,
   "skip_h1_title": false,
   "title_cell": "Table of Contents",
   "title_sidebar": "Contents",
   "toc_cell": false,
   "toc_position": {},
   "toc_section_display": true,
   "toc_window_display": false
  }
 },
 "nbformat": 4,
 "nbformat_minor": 2
}
