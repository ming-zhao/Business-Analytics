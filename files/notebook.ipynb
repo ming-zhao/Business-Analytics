{
 "cells": [
  {
   "cell_type": "markdown",
   "metadata": {},
   "source": [
    "<a href=\"https://colab.research.google.com/github/ming-zhao/Business-Analytics/blob/master/files/notebook.ipynb\" target=\"_parent\"><img src=\"https://colab.research.google.com/assets/colab-badge.svg\" alt=\"Open In Colab\"/></a>"
   ]
  },
  {
   "cell_type": "code",
   "execution_count": null,
   "metadata": {},
   "outputs": [],
   "source": [
    "!wget -q https://raw.githubusercontent.com/ming-zhao/Business-Analytics/master/files/loaddatfuncs.py > /dev/null\n",
    "!wget -q https://raw.githubusercontent.com/ming-zhao/Business-Analytics/master/files/loadmlfuncs.py > /dev/null\n",
    "!wget -q https://raw.githubusercontent.com/ming-zhao/Business-Analytics/master/files/loadoptfuncs.py > /dev/null\n",
    "!wget -q https://raw.githubusercontent.com/ming-zhao/Business-Analytics/master/files/loadregfuncs.py > /dev/null\n",
    "!wget -q https://raw.githubusercontent.com/ming-zhao/Business-Analytics/master/files/loadtsfuncs.py > /dev/null\n",
    "!pip install imgaug==0.2.5 > /dev/null\n",
    "!pip install scipy==1.2 > /dev/null\n",
    "!pip install pmdarima > /dev/null\n",
    "%run loaddatfuncs.py\n",
    "%run loadmlfuncs.py\n",
    "%run loadoptfuncs.py\n",
    "%run loadregfuncs.py\n",
    "%run loadtsfuncs.py"
   ]
  },
  {
   "cell_type": "markdown",
   "metadata": {},
   "source": [
    "# Forecasting"
   ]
  },
  {
   "cell_type": "code",
   "execution_count": null,
   "metadata": {},
   "outputs": [],
   "source": [
    "interact(training_data,\n",
    "         show=widgets.Checkbox(value=False, description='Original', disabled=False));"
   ]
  },
  {
   "cell_type": "code",
   "execution_count": null,
   "metadata": {},
   "outputs": [],
   "source": [
    "interact(poly_fit,\n",
    "         show=widgets.Checkbox(value=True, description='sin$(2\\pi x)$', disabled=False));"
   ]
  },
  {
   "cell_type": "code",
   "execution_count": null,
   "metadata": {},
   "outputs": [],
   "source": [
    "interact(poly_fit_holdout,\n",
    "         show=widgets.Checkbox(value=True, description='sin$(2\\pi x)$', disabled=False),\n",
    "         train=widgets.Checkbox(value=True, description='Training Data', disabled=False),\n",
    "         test=widgets.Checkbox(value=True, description='Testing Data', disabled=False));"
   ]
  },
  {
   "cell_type": "code",
   "execution_count": null,
   "metadata": {},
   "outputs": [],
   "source": [
    "boxplot(df_house, ['month','sales'], title='House Sales')"
   ]
  },
  {
   "cell_type": "markdown",
   "metadata": {},
   "source": [
    "# Machine Learning"
   ]
  },
  {
   "cell_type": "markdown",
   "metadata": {},
   "source": [
    "## Naive Bayes"
   ]
  },
  {
   "cell_type": "code",
   "execution_count": null,
   "metadata": {},
   "outputs": [],
   "source": [
    "from sklearn.datasets import fetch_20newsgroups\n",
    "\n",
    "data = fetch_20newsgroups()\n",
    "display(data.target_names)\n",
    "\n",
    "# choose a subset categories to learn\n",
    "categories = ['talk.religion.misc',\n",
    "              'soc.religion.christian',\n",
    "              'sci.space',\n",
    "              'comp.graphics']\n",
    "\n",
    "train = fetch_20newsgroups(subset='train', categories=categories)\n",
    "test = fetch_20newsgroups(subset='test', categories=categories)"
   ]
  },
  {
   "cell_type": "code",
   "execution_count": null,
   "metadata": {},
   "outputs": [],
   "source": [
    "print(train.data[5])"
   ]
  },
  {
   "cell_type": "code",
   "execution_count": null,
   "metadata": {},
   "outputs": [],
   "source": [
    "from sklearn.feature_extraction.text import TfidfVectorizer\n",
    "from sklearn.naive_bayes import MultinomialNB\n",
    "from sklearn.pipeline import make_pipeline\n",
    "from sklearn.metrics import confusion_matrix\n",
    "\n",
    "# Fit the model and show the classification matrix\n",
    "#convert the content of each string into a vector of numbers\n",
    "model = make_pipeline(TfidfVectorizer(), MultinomialNB())\n",
    "model.fit(train.data, train.target)\n",
    "labels = model.predict(test.data)\n",
    "mat = confusion_matrix(test.target, labels)\n",
    "sns.heatmap(mat.T, square=True, annot=True, fmt='d', cbar=False,\n",
    "            xticklabels=train.target_names, yticklabels=train.target_names)\n",
    "plt.xlabel('true label')\n",
    "plt.ylabel('predicted label')\n",
    "plt.ylim(0, mat.shape[0])\n",
    "plt.show()\n",
    "\n",
    "def predict_category(s, train=train, model=model):\n",
    "    pred = model.predict([s])\n",
    "    return train.target_names[pred[0]]"
   ]
  },
  {
   "cell_type": "code",
   "execution_count": null,
   "metadata": {},
   "outputs": [],
   "source": [
    "predict_category('discussing islam vs atheism')"
   ]
  },
  {
   "cell_type": "code",
   "execution_count": null,
   "metadata": {},
   "outputs": [],
   "source": [
    "predict_category('determining the screen resolution')"
   ]
  },
  {
   "cell_type": "code",
   "execution_count": null,
   "metadata": {},
   "outputs": [],
   "source": [
    "predict_category('sending a payload to the ISS')"
   ]
  },
  {
   "cell_type": "markdown",
   "metadata": {},
   "source": [
    "## Neural Networks"
   ]
  },
  {
   "cell_type": "code",
   "execution_count": null,
   "metadata": {},
   "outputs": [],
   "source": [
    "from keras.datasets import mnist\n",
    "(train_images, train_labels), (test_images, test_labels) = mnist.load_data()\n",
    "print('training images:{}, test images:{}'.format(train_images.shape, test_images.shape))"
   ]
  },
  {
   "cell_type": "code",
   "execution_count": null,
   "metadata": {},
   "outputs": [],
   "source": [
    "def showimg(data, idx):\n",
    "    span = 5\n",
    "    if data=='train':\n",
    "        if idx+span<train_images.shape[0]:\n",
    "            images = train_images\n",
    "            labels = train_labels\n",
    "        else:\n",
    "            print('Index is out of range.')\n",
    "    if data=='test':\n",
    "        if idx+span<test_images.shape[0]:\n",
    "            images = test_images\n",
    "            labels = test_labels\n",
    "        else:\n",
    "            print('Index is out of range.')\n",
    "    plt.figure(figsize=(20,4))\n",
    "    for i in range(span):\n",
    "        plt.subplot(1, 5, i + 1)\n",
    "        digit = images[idx+i]\n",
    "        plt.imshow(digit, cmap=plt.cm.binary)\n",
    "        plt.title('Index:{}, Label:{}'.format(idx+i, labels[idx+i]), fontsize = 15)\n",
    "    plt.show()\n",
    "\n",
    "interact(showimg,\n",
    "    data = widgets.RadioButtons(options=['train', 'test'],\n",
    "                                value='train', description='Data:', disabled=False),\n",
    "    idx = widgets.IntText(value=7, description='Index:', disabled=False));"
   ]
  },
  {
   "cell_type": "code",
   "execution_count": null,
   "metadata": {},
   "outputs": [],
   "source": [
    "from keras import models\n",
    "from keras import layers\n",
    "from keras.utils import to_categorical\n",
    "\n",
    "network = models.Sequential()\n",
    "network.add(layers.Dense(512, activation='relu', input_shape=(28 * 28,)))\n",
    "network.add(layers.Dense(10, activation='softmax'))\n",
    "\n",
    "network.compile(optimizer='rmsprop',\n",
    "                loss='categorical_crossentropy',\n",
    "                metrics=['accuracy'])\n",
    "\n",
    "train_images_reshape = train_images.reshape((60000, 28 * 28))\n",
    "train_images_reshape = train_images_reshape.astype('float32') / 255\n",
    "\n",
    "test_images_reshape = test_images.reshape((10000, 28 * 28))\n",
    "test_images_reshape = test_images_reshape.astype('float32') / 255\n",
    "\n",
    "train_labels_cat = to_categorical(train_labels)\n",
    "test_labels_cat = to_categorical(test_labels)\n",
    "\n",
    "network.fit(train_images_reshape, train_labels_cat, epochs=5, batch_size=128)\n",
    "\n",
    "test_loss, test_acc = network.evaluate(test_images_reshape, test_labels_cat)\n",
    "print('test accuracy:', test_acc)"
   ]
  },
  {
   "cell_type": "code",
   "execution_count": null,
   "metadata": {},
   "outputs": [],
   "source": [
    "predicted = network.predict_classes(test_images_reshape)\n",
    "result = abs(predicted - test_labels)\n",
    "misclassified = np.where(result>0)[0]\n",
    "print('# of misclassified images:',misclassified.shape[0])\n",
    "\n",
    "plt.figure(figsize=(20,4))\n",
    "for i in range(5):\n",
    "    plt.subplot(1, 5, i + 1)\n",
    "    idx = misclassified[i]\n",
    "    digit = test_images[idx]\n",
    "    plt.imshow(digit, cmap=plt.cm.binary)\n",
    "    plt.title('Predicted:{}, Label:{}'.format(predicted[idx], test_labels[idx]), fontsize = 15)\n",
    "plt.show()"
   ]
  }
 ],
 "metadata": {
  "kernelspec": {
   "display_name": "Python 3",
   "language": "python",
   "name": "python3"
  },
  "language_info": {
   "codemirror_mode": {
    "name": "ipython",
    "version": 3
   },
   "file_extension": ".py",
   "mimetype": "text/x-python",
   "name": "python",
   "nbconvert_exporter": "python",
   "pygments_lexer": "ipython3",
   "version": "3.7.3"
  },
  "toc": {
   "base_numbering": 1,
   "nav_menu": {},
   "number_sections": true,
   "sideBar": true,
   "skip_h1_title": false,
   "title_cell": "Table of Contents",
   "title_sidebar": "Contents",
   "toc_cell": false,
   "toc_position": {},
   "toc_section_display": true,
   "toc_window_display": false
  }
 },
 "nbformat": 4,
 "nbformat_minor": 2
}
